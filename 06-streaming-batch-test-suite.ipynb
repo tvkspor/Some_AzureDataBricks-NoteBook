{
 "cells": [
  {
   "cell_type": "code",
   "execution_count": 0,
   "metadata": {
    "application/vnd.databricks.v1+cell": {
     "cellMetadata": {
      "byteLimit": 2048000,
      "rowLimit": 10000
     },
     "inputWidgets": {},
     "nuid": "4c4883c1-2736-4293-a850-469bdaa2521b",
     "showTitle": false,
     "tableResultSettingsMap": {},
     "title": ""
    }
   },
   "outputs": [],
   "source": [
    "%run ./05-streaming-batch"
   ]
  },
  {
   "cell_type": "code",
   "execution_count": 0,
   "metadata": {
    "application/vnd.databricks.v1+cell": {
     "cellMetadata": {
      "byteLimit": 2048000,
      "rowLimit": 10000
     },
     "inputWidgets": {},
     "nuid": "5ff229e9-cf6b-4ace-9af9-a05badf8f05b",
     "showTitle": false,
     "tableResultSettingsMap": {},
     "title": ""
    }
   },
   "outputs": [],
   "source": [
    "class invoiceStreamTestSuite():\n",
    "    def __init__(self):\n",
    "        self.base_data_dir = \"/FileStore/tables\"\n",
    "\n",
    "    def cleanTests(self):\n",
    "        print(f\"Starting Cleanup...\", end='')\n",
    "        spark.sql(\"drop table if exists invoice_line_items\")\n",
    "        dbutils.fs.rm(\"/user/hive/warehouse/invoice_line_items\", True)\n",
    "\n",
    "        dbutils.fs.rm(f\"{self.base_data_dir}/chekpoint/invoices\", True)\n",
    "        dbutils.fs.rm(f\"{self.base_data_dir}/data/invoices\", True)\n",
    "\n",
    "        dbutils.fs.mkdirs(f\"{self.base_data_dir}/data/invoices\")\n",
    "        print(\"Done\")\n",
    "\n",
    "    def ingestData(self, itr):\n",
    "        print(f\"\\tStarting Ingestion...\", end='')\n",
    "        dbutils.fs.cp(f\"{self.base_data_dir}/dataset/invoices/invoices_{itr}.json\", f\"{self.base_data_dir}/data/invoices/\")\n",
    "        print(\"Done\")\n",
    "\n",
    "    def assertResult(self, expected_count):\n",
    "        print(f\"\\tStarting validation...\", end='')\n",
    "        actual_count = spark.sql(\"select count(*) from invoice_line_items\").collect()[0][0]\n",
    "        assert expected_count == actual_count, f\"Test failed! actual count is {actual_count}\"\n",
    "        print(\"Done\")\n",
    "\n",
    "    def waitForMicroBatch(self, sleep=30):\n",
    "        import time\n",
    "        print(f\"\\tWaiting for {sleep} seconds...\", end='')\n",
    "        time.sleep(sleep)\n",
    "        print(\"Done.\")\n",
    "\n",
    "    def runStreamTests(self):\n",
    "        self.cleanTests()\n",
    "        iStream = invoiceStreamBatch(\"30 seconds\")\n",
    "        streamQuery = iStream.process()\n",
    "\n",
    "        print(\"Testing first iteration of invoice stream...\") \n",
    "        self.ingestData(1)\n",
    "        self.waitForMicroBatch()        \n",
    "        self.assertResult(1249)\n",
    "        print(\"Validation passed.\\n\")\n",
    "\n",
    "        print(\"Testing second iteration of invoice stream...\") \n",
    "        self.ingestData(2)\n",
    "        self.waitForMicroBatch()\n",
    "        self.assertResult(2506)\n",
    "        print(\"Validation passed.\\n\") \n",
    "\n",
    "        print(\"Testing third iteration of invoice stream...\") \n",
    "        self.ingestData(3)\n",
    "        self.waitForMicroBatch()\n",
    "        self.assertResult(3990)\n",
    "        print(\"Validation passed.\\n\")\n",
    "\n",
    "        streamQuery.stop()\n",
    "\n",
    "    def runBatchTests(self):\n",
    "        self.cleanTests()\n",
    "        iStream = invoiceStreamBatch()\n",
    "\n",
    "        print(\"Testing first batch of invoice stream...\") \n",
    "        self.ingestData(1)\n",
    "        self.ingestData(2)\n",
    "        iStream.process(\"batch\")\n",
    "        self.waitForMicroBatch(30)        \n",
    "        self.assertResult(2506)\n",
    "        print(\"Validation passed.\\n\")\n",
    "\n",
    "        print(\"Testing second batch of invoice stream...\") \n",
    "        self.ingestData(3)\n",
    "        iStream.process(\"batch\")\n",
    "        self.waitForMicroBatch(30)        \n",
    "        self.assertResult(3990)\n",
    "        print(\"Validation passed.\\n\")"
   ]
  },
  {
   "cell_type": "code",
   "execution_count": 0,
   "metadata": {
    "application/vnd.databricks.v1+cell": {
     "cellMetadata": {
      "byteLimit": 2048000,
      "rowLimit": 10000
     },
     "inputWidgets": {},
     "nuid": "7e590582-e945-4bb3-ae07-65e4e5af981a",
     "showTitle": false,
     "tableResultSettingsMap": {},
     "title": ""
    }
   },
   "outputs": [],
   "source": [
    "sbTS = streamingBatchTestSuite()\n",
    "sbTS.runStreamTests()"
   ]
  },
  {
   "cell_type": "code",
   "execution_count": 0,
   "metadata": {
    "application/vnd.databricks.v1+cell": {
     "cellMetadata": {},
     "inputWidgets": {},
     "nuid": "dbef7b1e-8d47-46b5-8718-64bd238db5bf",
     "showTitle": false,
     "tableResultSettingsMap": {},
     "title": ""
    }
   },
   "outputs": [],
   "source": [
    "sbTS.runBatchTests()"
   ]
  }
 ],
 "metadata": {
  "application/vnd.databricks.v1+notebook": {
   "computePreferences": null,
   "dashboards": [],
   "environmentMetadata": {
    "base_environment": "",
    "environment_version": "2"
   },
   "language": "python",
   "notebookMetadata": {
    "pythonIndentUnit": 4
   },
   "notebookName": "06-streaming-batch-test-suite",
   "widgets": {}
  },
  "language_info": {
   "name": "python"
  }
 },
 "nbformat": 4,
 "nbformat_minor": 0
}
