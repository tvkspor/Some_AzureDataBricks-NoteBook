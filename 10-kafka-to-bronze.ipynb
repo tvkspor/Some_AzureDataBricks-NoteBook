{
 "cells": [
  {
   "cell_type": "code",
   "execution_count": 0,
   "metadata": {
    "application/vnd.databricks.v1+cell": {
     "cellMetadata": {
      "byteLimit": 2048000,
      "rowLimit": 10000
     },
     "inputWidgets": {},
     "nuid": "4d8dea69-1225-49c7-8825-61913acf8fb4",
     "showTitle": false,
     "tableResultSettingsMap": {},
     "title": ""
    }
   },
   "outputs": [],
   "source": [
    "class Bronze():\n",
    "    def __init__(self):\n",
    "        self.base_data_dir = \"/FileStore/tables\"\n",
    "        self.BOOTSTRAP_SERVER = \"pkc-921jm.us-east-2.aws.confluent.cloud:9092\"\n",
    "        self.JAAS_MODULE = \"org.apache.kafka.common.security.plain.PlainLoginModule\"\n",
    "        self.CLUSTER_API_KEY = \"WQP32TVOEB3FYS7N\"\n",
    "        self.CLUSTER_API_SECRET = \"wzWXLC/pnnOu+av+H1M56QdkESR4KiUItFUrYmKUNVN19lGGj0mmsrPebcDfmg8f\"\n",
    "    \n",
    "    def getSchema(self):\n",
    "        return \"\"\"InvoiceNumber string, CreatedTime bigint, StoreID string, PosID string, CashierID string,\n",
    "                CustomerType string, CustomerCardNo string, TotalAmount double, NumberOfItems bigint, \n",
    "                PaymentMethod string, TaxableAmount double, CGST double, SGST double, CESS double, \n",
    "                DeliveryType string,\n",
    "                DeliveryAddress struct<AddressLine string, City string, ContactNumber string, PinCode string, \n",
    "                State string>,\n",
    "                InvoiceLineItems array<struct<ItemCode string, ItemDescription string, \n",
    "                    ItemPrice double, ItemQty bigint, TotalValue double>>\n",
    "            \"\"\"\n",
    "\n",
    "    def ingestFromKafka(self, startingTime = 1):\n",
    "        return ( spark.readStream\n",
    "            .format(\"kafka\")\n",
    "            .option(\"kafka.bootstrap.servers\", self.BOOTSTRAP_SERVER)\n",
    "            .option(\"kafka.security.protocol\", \"SASL_SSL\")\n",
    "            .option(\"kafka.sasl.mechanism\", \"PLAIN\")\n",
    "            .option(\"kafka.sasl.jaas.config\", f\"{self.JAAS_MODULE} required username='{self.CLUSTER_API_KEY}' password='{self.CLUSTER_API_SECRET}';\")\n",
    "            .option(\"subscribe\", \"Test\")\n",
    "            .option(\"maxOffsetsPerTrigger\", 10)\n",
    "            .option(\"startingTimestamp\", startingTime)\n",
    "            .load()\n",
    "        )\n",
    "\n",
    "    def getInvoices(self, kafka_df):\n",
    "        from pyspark.sql.functions import from_json, cast\n",
    "        return(\n",
    "            kafka_df.select(kafka_df.key.cast('string').alias('key'),\n",
    "                           from_json(kafka_df.value.cast('string'),self.getSchema()).alias(\"value\"),\n",
    "                           \"topic\",\"timestamp\")\n",
    "        )\n",
    "\n",
    "    def process(self, startingTime = 1):\n",
    "        print(f\"Starting Bronze Stream...\", end='')\n",
    "        invoicesDF = self.getInvoices(self.ingestFromKafka(startingTime))\n",
    "        sQuery = (invoicesDF.writeStream\n",
    "                  .queryName(\"bronze-ingestion\")\n",
    "                  .option(\"checkpointLocation\", f\"{self.base_data_dir}/chekpoint/invoices_bz\")\n",
    "                  .outputMode(\"append\")\n",
    "                  .toTable(\"invoices_bz\")\n",
    "        )\n",
    "        print(\"Done\")\n",
    "        return sQuery\n"
   ]
  }
 ],
 "metadata": {
  "application/vnd.databricks.v1+notebook": {
   "computePreferences": null,
   "dashboards": [],
   "environmentMetadata": {
    "base_environment": "",
    "environment_version": "2"
   },
   "language": "python",
   "notebookMetadata": {
    "pythonIndentUnit": 4
   },
   "notebookName": "10-kafka-to-bronze",
   "widgets": {}
  },
  "language_info": {
   "name": "python"
  }
 },
 "nbformat": 4,
 "nbformat_minor": 0
}
