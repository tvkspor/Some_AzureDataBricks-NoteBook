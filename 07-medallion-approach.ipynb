{
 "cells": [
  {
   "cell_type": "code",
   "execution_count": 0,
   "metadata": {
    "application/vnd.databricks.v1+cell": {
     "cellMetadata": {
      "byteLimit": 2048000,
      "rowLimit": 10000
     },
     "inputWidgets": {},
     "nuid": "884b9846-11e9-45c1-98df-4633ede87d92",
     "showTitle": false,
     "tableResultSettingsMap": {},
     "title": ""
    }
   },
   "outputs": [],
   "source": [
    "class Bronze():\n",
    "    def __init__(self):\n",
    "        self.base_data_dir = \"/FileStore/tables\"\n",
    "\n",
    "    def getSchema(self):\n",
    "        return \"\"\"InvoiceNumber string, CreatedTime bigint, StoreID string, PosID string, CashierID string,\n",
    "                CustomerType string, CustomerCardNo string, TotalAmount double, NumberOfItems bigint, \n",
    "                PaymentMethod string, TaxableAmount double, CGST double, SGST double, CESS double, \n",
    "                DeliveryType string,\n",
    "                DeliveryAddress struct<AddressLine string, City string, ContactNumber string, PinCode string, \n",
    "                State string>,\n",
    "                InvoiceLineItems array<struct<ItemCode string, ItemDescription string, \n",
    "                    ItemPrice double, ItemQty bigint, TotalValue double>>\n",
    "            \"\"\"\n",
    "\n",
    "    def readInvoices(self):\n",
    "        return (spark.readStream\n",
    "                .format(\"json\")\n",
    "                #.option(\"cleanSource\", \"delete\")\n",
    "                .option(\"cleanSource\", \"archive\")\n",
    "                .option(\"sourceArchiveDir\", f\"{self.base_data_dir}/data/invoices_archive\")    \n",
    "                .schema(self.getSchema())\n",
    "                .load(f\"{self.base_data_dir}/data/invoices\"))\n",
    "    \n",
    "    def process(self):\n",
    "        print(f\"Starting Bronze Stream...\", end='')\n",
    "        invoicesDF = self.readInvoices()\n",
    "        sQuery =  ( invoicesDF.writeStream\n",
    "                            .queryName(\"bronze-ingestion\")\n",
    "                            .option(\"checkpointLocation\", f\"{self.base_data_dir}/chekpoint/invoices_bz\")\n",
    "                            .outputMode(\"append\")\n",
    "                            .toTable(\"invoices_bz\")           \n",
    "                    ) \n",
    "        print(\"Done\")\n",
    "        return sQuery \n",
    "        \n",
    "    "
   ]
  },
  {
   "cell_type": "code",
   "execution_count": 0,
   "metadata": {
    "application/vnd.databricks.v1+cell": {
     "cellMetadata": {
      "byteLimit": 2048000,
      "rowLimit": 10000
     },
     "inputWidgets": {},
     "nuid": "7924425f-ae5f-46d6-9c75-170f41f64a9a",
     "showTitle": false,
     "tableResultSettingsMap": {},
     "title": ""
    }
   },
   "outputs": [],
   "source": [
    "class Silver():\n",
    "    def __init__(self):\n",
    "        self.base_data_dir = \"/FileStore/tables\"\n",
    "\n",
    "    def readInvoices(self):\n",
    "        return (spark.readStream.table(\"invoices_bz\"))\n",
    "    \n",
    "    def explodeInvoices(self, invoiceDF):\n",
    "        return ( invoiceDF.selectExpr(\"InvoiceNumber\", \"CreatedTime\", \"StoreID\", \"PosID\",\n",
    "                                      \"CustomerType\", \"PaymentMethod\", \"DeliveryType\", \"DeliveryAddress.City\",\n",
    "                                      \"DeliveryAddress.State\",\"DeliveryAddress.PinCode\", \n",
    "                                      \"explode(InvoiceLineItems) as LineItem\")\n",
    "                                    ) \n",
    "        \n",
    "    def flattenInvoices(self, explodeDF):\n",
    "        from pyspark.sql.functions import expr\n",
    "        return (explodeDF.withColumn(\"ItemCode\", expr(\"LineItem.ItemCode\"))\n",
    "        .withColumn(\"ItemDescription\", expr(\"LineItem.ItemDescription\"))\n",
    "        .withColumn(\"ItemPrice\", expr(\"LineItem.ItemPrice\"))\n",
    "        .withColumn(\"ItemQty\", expr(\"LineItem.ItemQty\"))\n",
    "        .withColumn(\"TotalValue\", expr(\"LineItem.TotalValue\"))\n",
    "        .drop(\"LineItem\")\n",
    "        )\n",
    "\n",
    "    def appendInvoices(self, flattenDF):\n",
    "        return(flattenDF.writeStream\n",
    "               .queryName(\"silver-processing\")\n",
    "               .format(\"delta\")\n",
    "               .option(\"checkpointLocation\", f\"{self.base_data_dir}/checkpoints/invoice_line_items\")\n",
    "               .outputMode(\"append\")\n",
    "               .toTable(\"invoice_line_items\")\n",
    "        )\n",
    "\n",
    "    def process(self):\n",
    "           print(f\"Starting Sliver Stream...\", end='')\n",
    "           invoicesDF = self.readInvoices()\n",
    "           explodedDF = self.explodeInvoices(invoicesDF)\n",
    "           resultDF = self.flattenInvoices(explodedDF)\n",
    "           sQuery = self.appendInvoices(resultDF)\n",
    "           print(\"Done\\n\")\n",
    "           return sQuery \n",
    "\n"
   ]
  }
 ],
 "metadata": {
  "application/vnd.databricks.v1+notebook": {
   "computePreferences": null,
   "dashboards": [],
   "environmentMetadata": {
    "base_environment": "",
    "environment_version": "2"
   },
   "language": "python",
   "notebookMetadata": {
    "pythonIndentUnit": 4
   },
   "notebookName": "07-medallion-approach",
   "widgets": {}
  },
  "language_info": {
   "name": "python"
  }
 },
 "nbformat": 4,
 "nbformat_minor": 0
}
