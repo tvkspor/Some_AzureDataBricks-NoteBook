{
 "cells": [
  {
   "cell_type": "code",
   "execution_count": 0,
   "metadata": {
    "application/vnd.databricks.v1+cell": {
     "cellMetadata": {},
     "inputWidgets": {},
     "nuid": "7d857f87-e5d3-43b7-98d6-41315d7255a0",
     "showTitle": false,
     "tableResultSettingsMap": {},
     "title": ""
    }
   },
   "outputs": [],
   "source": [
    "%run ./12-idempotent-kafka-to-bronze"
   ]
  },
  {
   "cell_type": "code",
   "execution_count": 0,
   "metadata": {
    "application/vnd.databricks.v1+cell": {
     "cellMetadata": {},
     "inputWidgets": {},
     "nuid": "89117ed4-c220-48ee-8722-6e4168a2c60e",
     "showTitle": false,
     "tableResultSettingsMap": {},
     "title": ""
    }
   },
   "outputs": [],
   "source": [
    "class kafkaToBronzeTestSuite:\n",
    "    def __init__(self):\n",
    "        self.base_data_dir = \"/FileStore/tables\"\n",
    "\n",
    "    def cleanTests(self):\n",
    "        print(f\"Starting Cleanup...\", end=\"\")\n",
    "        spark.sql(\"drop table if exists invoices_bz\")\n",
    "        dbutils.fs.rm(\"/user/hive/warehouse/invoices_bz\", True)\n",
    "        dbutils.fs.rm(f\"{self.base_data_dir}/chekpoint/invoices_bz\", True)\n",
    "        print(\"Done\")\n",
    "\n",
    "    def assertResult(self, expected_count):\n",
    "        print(f\"\\tStarting validation...\", end=\"\")\n",
    "        actual_count = spark.sql(\"select count(*) from invoices_bz\").collect()[0][0]\n",
    "        assert (\n",
    "            expected_count == actual_count\n",
    "        ), f\"Test failed! actual count is {actual_count}\"\n",
    "        print(\"Done\")\n",
    "\n",
    "    def waitForMicroBatch(self, sleep=30):\n",
    "        import time\n",
    "\n",
    "        print(f\"\\tWaiting for {sleep} seconds...\", end=\"\")\n",
    "        time.sleep(sleep)\n",
    "        print(\"Done.\")\n",
    "\n",
    "    def runTest(self):\n",
    "        self.cleanTests()\n",
    "        bzStream = Bronze()\n",
    "        value_schema = bzStream.getSchema()\n",
    "        spark.sql(f\"CREATE TABLE invoices_bz (key STRING, value STRUCT<{value_schema}>, topic STRING, timestamp TIMESTAMP)\")\n",
    "\n",
    "        print(\"Testing Scenario - Start from beginneing on a new checkpoint...\")\n",
    "        bzQuery = bzStream.process()\n",
    "        self.waitForMicroBatch()\n",
    "        bzQuery.stop()\n",
    "        self.assertResult(30)\n",
    "        print(\"Validation passed.\\n\")\n",
    "\n",
    "        print(\n",
    "            \"Testing Scenarion - Restart from where it stopped on the same checkpoint...\"\n",
    "        )\n",
    "        bzQuery = bzStream.process()\n",
    "        self.waitForMicroBatch()\n",
    "        bzQuery.stop()\n",
    "        self.assertResult(30)\n",
    "        print(\"Validation passed.\\n\")\n",
    "\n",
    "        print(\"Testing Scenario - Start from 1697945539000 on a new checkpoint...\")\n",
    "        dbutils.fs.rm(f\"{self.base_data_dir}/chekpoint/invoices_bz\", True)\n",
    "        bzQuery = bzStream.process(1697945539000)\n",
    "        self.waitForMicroBatch()\n",
    "        bzQuery.stop()\n",
    "        self.assertResult(30)\n",
    "        print(\"Validation passed.\\n\")"
   ]
  },
  {
   "cell_type": "code",
   "execution_count": 0,
   "metadata": {
    "application/vnd.databricks.v1+cell": {
     "cellMetadata": {},
     "inputWidgets": {},
     "nuid": "00565f20-902b-4187-a158-7549ca51334c",
     "showTitle": false,
     "tableResultSettingsMap": {},
     "title": ""
    }
   },
   "outputs": [],
   "source": [
    "ts = kafkaToBronzeTestSuite()\n",
    "ts.runTests()"
   ]
  }
 ],
 "metadata": {
  "application/vnd.databricks.v1+notebook": {
   "computePreferences": null,
   "dashboards": [],
   "environmentMetadata": {
    "base_environment": "",
    "environment_version": "2"
   },
   "language": "python",
   "notebookMetadata": {
    "pythonIndentUnit": 4
   },
   "notebookName": "13-idempotent-kafka-to-bronze-test-suite",
   "widgets": {}
  },
  "language_info": {
   "name": "python"
  }
 },
 "nbformat": 4,
 "nbformat_minor": 0
}
