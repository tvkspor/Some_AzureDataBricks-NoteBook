{
 "cells": [
  {
   "cell_type": "code",
   "execution_count": 0,
   "metadata": {
    "application/vnd.databricks.v1+cell": {
     "cellMetadata": {
      "byteLimit": 2048000,
      "rowLimit": 10000
     },
     "inputWidgets": {},
     "nuid": "f480256d-21e0-49d0-ad96-da936c712ab6",
     "showTitle": false,
     "tableResultSettingsMap": {},
     "title": ""
    }
   },
   "outputs": [],
   "source": [
    "%run ./10-kafka-to-bronze"
   ]
  },
  {
   "cell_type": "code",
   "execution_count": 0,
   "metadata": {
    "application/vnd.databricks.v1+cell": {
     "cellMetadata": {
      "byteLimit": 2048000,
      "rowLimit": 10000
     },
     "inputWidgets": {},
     "nuid": "7165a615-a744-4675-9fbb-d56de34ce5dd",
     "showTitle": false,
     "tableResultSettingsMap": {},
     "title": ""
    }
   },
   "outputs": [],
   "source": [
    "class kafkaToBronzeTestSuite:\n",
    "    def __init__(self):\n",
    "        self.base_data_dir = \"/FileStore/tables\"\n",
    "\n",
    "    def cleanTests(self):\n",
    "        print(f\"Starting Cleanup...\", end=\"\")\n",
    "        spark.sql(\"drop table if exists invoices_bz\")\n",
    "        dbutils.fs.rm(\"/user/hive/warehouse/invoices_bz\", True)\n",
    "        dbutils.fs.rm(f\"{self.base_data_dir}/chekpoint/invoices_bz\", True)\n",
    "        print(\"Done\")\n",
    "\n",
    "    def assertResult(self, expected_count):\n",
    "        print(f\"\\tStarting validation...\", end=\"\")\n",
    "        actual_count = spark.sql(\"select count(*) from invoices_bz\").collect()[0][0]\n",
    "        assert (\n",
    "            expected_count == actual_count\n",
    "        ), f\"Test failed! actual count is {actual_count}\"\n",
    "        print(\"Done\")\n",
    "\n",
    "    def waitForMicroBatch(self, sleep=30):\n",
    "        import time\n",
    "\n",
    "        print(f\"\\tWaiting for {sleep} seconds...\", end=\"\")\n",
    "        time.sleep(sleep)\n",
    "        print(\"Done.\")\n",
    "\n",
    "    def runTest(self):\n",
    "        self.cleanTests()\n",
    "        bzStream = Bronze()\n",
    "\n",
    "        print(\"Testing Scenario - Start from beginneing on a new checkpoint...\")\n",
    "        bzQuery = bzStream.process()\n",
    "        self.waitForMicroBatch()\n",
    "        bzQuery.stop()\n",
    "        self.assertResult(30)\n",
    "        print(\"Validation passed.\\n\")\n",
    "\n",
    "        print(\n",
    "            \"Testing Scenarion - Restart from where it stopped on the same checkpoint...\"\n",
    "        )\n",
    "        bzQuery = bzStream.process()\n",
    "        self.waitForMicroBatch()\n",
    "        bzQuery.stop()\n",
    "        self.assertResult(30)\n",
    "        print(\"Validation passed.\\n\")\n",
    "\n",
    "        print(\"Testing Scenario - Start from 1697945539000 on a new checkpoint...\")\n",
    "        dbutils.fs.rm(f\"{self.base_data_dir}/chekpoint/invoices_bz\", True)\n",
    "        bzQuery = bzStream.process(1697945539000)\n",
    "        self.waitForMicroBatch()\n",
    "        bzQuery.stop()\n",
    "        self.assertResult(40)\n",
    "        print(\"Validation passed.\\n\")"
   ]
  },
  {
   "cell_type": "code",
   "execution_count": 0,
   "metadata": {
    "application/vnd.databricks.v1+cell": {
     "cellMetadata": {
      "byteLimit": 2048000,
      "rowLimit": 10000
     },
     "inputWidgets": {},
     "nuid": "8931fd1e-7a14-4ae1-9860-717af6e76dd7",
     "showTitle": false,
     "tableResultSettingsMap": {},
     "title": ""
    }
   },
   "outputs": [],
   "source": [
    "ts = kafkaToBronzeTestSuite()\n",
    "ts.runTest()"
   ]
  }
 ],
 "metadata": {
  "application/vnd.databricks.v1+notebook": {
   "computePreferences": null,
   "dashboards": [],
   "environmentMetadata": {
    "base_environment": "",
    "environment_version": "2"
   },
   "language": "python",
   "notebookMetadata": {
    "pythonIndentUnit": 4
   },
   "notebookName": "11-kafka-to-bronze-test-suite",
   "widgets": {}
  },
  "language_info": {
   "name": "python"
  }
 },
 "nbformat": 4,
 "nbformat_minor": 0
}
