{
 "cells": [
  {
   "cell_type": "code",
   "execution_count": 0,
   "metadata": {
    "application/vnd.databricks.v1+cell": {
     "cellMetadata": {
      "byteLimit": 2048000,
      "rowLimit": 10000
     },
     "collapsed": true,
     "inputWidgets": {},
     "nuid": "33eb68c1-5491-4730-bfb0-38aaf0ea5b70",
     "showTitle": false,
     "tableResultSettingsMap": {},
     "title": ""
    }
   },
   "outputs": [],
   "source": [
    "class batch_WordCount():\n",
    "    def __init__(self):\n",
    "        self.base_data_dir = \"/FileStore/tables\"\n",
    "    \n",
    "    def getRawData(self):\n",
    "        from pyspark.sql.functions import explode, split\n",
    "        lines = (spark.read\n",
    "                        .format(\"text\")\n",
    "                        .option(\"lineSep\", \".\")\n",
    "                        .load(f\"{self.base_data_dir}/data/text\")\n",
    "        )\n",
    "        return lines.select(explode(split(lines.value, \" \")).alias(\"word\"))\n",
    "    \n",
    "    def getQualityData(self, rawDF):\n",
    "        from pyspark.sql.functions import trim, lower\n",
    "        return ( rawDF.select(lower(trim(rawDF.word)).alias(\"word\"))\n",
    "                        .where(\"word is not null\")\n",
    "                        .where(\"word rlike '[a-z]'\")\n",
    "        )\n",
    "    \n",
    "    def overwriteWordCount(self, wordCountDF):\n",
    "        ( wordCountDF.write\n",
    "                    .format(\"delta\")\n",
    "                    .mode(\"overwrite\")\n",
    "                    .saveAsTable(\"word_count_table\")\n",
    "        )\n",
    "    \n",
    "    def getWordCount(self, qualityDF):\n",
    "        return qualityDF.groupBy(\"word\").count()\n",
    "\n",
    "    def wordCount(self):\n",
    "        print(f\"\\tExecuting Word Count...\", end='')\n",
    "        rawDF = self.getRawData()\n",
    "        qualityDF = self.getQualityData(rawDF)\n",
    "        resultDF = self.getWordCount(qualityDF)\n",
    "        self.overwriteWordCount(resultDF)\n",
    "        print(\"Done\")\n"
   ]
  },
  {
   "cell_type": "code",
   "execution_count": 0,
   "metadata": {
    "application/vnd.databricks.v1+cell": {
     "cellMetadata": {
      "byteLimit": 2048000,
      "rowLimit": 10000
     },
     "inputWidgets": {},
     "nuid": "eaf62bd9-0b4d-409a-ad27-b866e3daf8f0",
     "showTitle": false,
     "tableResultSettingsMap": {},
     "title": ""
    }
   },
   "outputs": [],
   "source": [
    "class stream_WordCount():\n",
    "    def __init__(self):\n",
    "        self.base_data_dir = \"/FileStore/tables\"\n",
    "    \n",
    "    def getRawData(self):\n",
    "        from pyspark.sql.functions import explode, split\n",
    "        lines = (spark.readStream\n",
    "                        .format(\"text\")\n",
    "                        .option(\"lineSep\", \".\")\n",
    "                        .load(f\"{self.base_data_dir}/data/text\")\n",
    "        )\n",
    "        return lines.select(explode(split(lines.value, \" \")).alias(\"word\"))\n",
    "    \n",
    "    def getQualityData(self, rawDF):\n",
    "        from pyspark.sql.functions import trim, lower\n",
    "        return ( rawDF.select(lower(trim(rawDF.word)).alias(\"word\"))\n",
    "                        .where(\"word is not null\")\n",
    "                        .where(\"word rlike '[a-z]'\")\n",
    "        )\n",
    "    \n",
    "    def overwriteWordCount(self, wordCountDF):\n",
    "        return ( wordCountDF.writeStream\n",
    "                    .format(\"delta\")\n",
    "                    .option(\"checkpointLocation\", f\"{self.base_data_dir}/chekpoint/word_count\")\n",
    "                    .outputMode(\"complete\")\n",
    "                    .toTable(\"word_count_table\")\n",
    "        )\n",
    "    \n",
    "    def getWordCount(self, qualityDF):\n",
    "        return qualityDF.groupBy(\"word\").count()\n",
    "    \n",
    "\n",
    "    def wordCount(self):\n",
    "        print(f\"\\tStarting Word Count Streaming...\", end='')\n",
    "        rawDF = self.getRawData()\n",
    "        qualityDF = self.getQualityData(rawDF)\n",
    "        resultDF = self.getWordCount(qualityDF)\n",
    "        sQuery = self.overwriteWordCount(resultDF)\n",
    "        print(\"Done\")\n",
    "        return sQuery"
   ]
  }
 ],
 "metadata": {
  "application/vnd.databricks.v1+notebook": {
   "computePreferences": null,
   "dashboards": [],
   "environmentMetadata": {
    "base_environment": "",
    "environment_version": "2"
   },
   "language": "python",
   "notebookMetadata": {
    "pythonIndentUnit": 4
   },
   "notebookName": "01-streaming-word-count",
   "widgets": {}
  },
  "language_info": {
   "name": "python"
  }
 },
 "nbformat": 4,
 "nbformat_minor": 0
}
