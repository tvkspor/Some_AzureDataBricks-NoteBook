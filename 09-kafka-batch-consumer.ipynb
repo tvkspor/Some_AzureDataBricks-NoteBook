{
 "cells": [
  {
   "cell_type": "code",
   "execution_count": 0,
   "metadata": {
    "application/vnd.databricks.v1+cell": {
     "cellMetadata": {
      "byteLimit": 2048000,
      "rowLimit": 10000
     },
     "inputWidgets": {},
     "nuid": "f43a3d14-8919-4a71-a8be-2c3a30ffa457",
     "showTitle": false,
     "tableResultSettingsMap": {},
     "title": ""
    }
   },
   "outputs": [],
   "source": [
    "BOOTSTRAP_SERVER = \"pkc-921jm.us-east-2.aws.confluent.cloud:9092\"\n",
    "JAAS_MODULE = \"org.apache.kafka.common.security.plain.PlainLoginModule\"\n",
    "CLUSTER_API_KEY = \"WQP32TVOEB3FYS7N\"\n",
    "CLUSTER_API_SECRET = \"wzWXLC/pnnOu+av+H1M56QdkESR4KiUItFUrYmKUNVN19lGGj0mmsrPebcDfmg8f\""
   ]
  },
  {
   "cell_type": "code",
   "execution_count": 0,
   "metadata": {
    "application/vnd.databricks.v1+cell": {
     "cellMetadata": {
      "byteLimit": 2048000,
      "rowLimit": 10000
     },
     "inputWidgets": {},
     "nuid": "b86fcf99-906d-4dfc-90a1-6e3396c1b549",
     "showTitle": false,
     "tableResultSettingsMap": {},
     "title": ""
    }
   },
   "outputs": [],
   "source": [
    "df = ( spark.read\n",
    "            .format(\"kafka\")\n",
    "            .option(\"kafka.bootstrap.servers\", BOOTSTRAP_SERVER)\n",
    "            .option(\"kafka.security.protocol\", \"SASL_SSL\")\n",
    "            .option(\"kafka.sasl.mechanism\", \"PLAIN\")\n",
    "            .option(\"kafka.sasl.jaas.config\", f\"{JAAS_MODULE} required username='{CLUSTER_API_KEY}' password='{CLUSTER_API_SECRET}';\")\n",
    "            .option(\"subscribe\", \"Test\")\n",
    "            .load()\n",
    "        )"
   ]
  },
  {
   "cell_type": "code",
   "execution_count": 0,
   "metadata": {
    "application/vnd.databricks.v1+cell": {
     "cellMetadata": {
      "byteLimit": 2048000,
      "rowLimit": 10000
     },
     "inputWidgets": {},
     "nuid": "f08d409a-9033-4631-b5d1-2615950e2c99",
     "showTitle": false,
     "tableResultSettingsMap": {},
     "title": ""
    }
   },
   "outputs": [],
   "source": [
    "display(df)"
   ]
  }
 ],
 "metadata": {
  "application/vnd.databricks.v1+notebook": {
   "computePreferences": null,
   "dashboards": [],
   "environmentMetadata": {
    "base_environment": "",
    "environment_version": "2"
   },
   "language": "python",
   "notebookMetadata": {
    "pythonIndentUnit": 4
   },
   "notebookName": "09-kafka-batch-consumer",
   "widgets": {}
  },
  "language_info": {
   "name": "python"
  }
 },
 "nbformat": 4,
 "nbformat_minor": 0
}
