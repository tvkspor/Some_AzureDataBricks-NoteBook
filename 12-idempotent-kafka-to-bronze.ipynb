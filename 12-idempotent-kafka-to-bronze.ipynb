{
 "cells": [
  {
   "cell_type": "code",
   "execution_count": 0,
   "metadata": {
    "application/vnd.databricks.v1+cell": {
     "cellMetadata": {},
     "inputWidgets": {},
     "nuid": "5ba64322-88e8-48bc-9c05-bf518a3e9731",
     "showTitle": false,
     "tableResultSettingsMap": {},
     "title": ""
    }
   },
   "outputs": [],
   "source": [
    "class Bronze():\n",
    "    def __init__(self):\n",
    "        self.base_data_dir = \"/FileStore/tables\"\n",
    "        self.BOOTSTRAP_SERVER = \"pkc-921jm.us-east-2.aws.confluent.cloud:9092\"\n",
    "        self.JAAS_MODULE = \"org.apache.kafka.common.security.plain.PlainLoginModule\"\n",
    "        self.CLUSTER_API_KEY = \"WQP32TVOEB3FYS7N\"\n",
    "        self.CLUSTER_API_SECRET = \"wzWXLC/pnnOu+av+H1M56QdkESR4KiUItFUrYmKUNVN19lGGj0mmsrPebcDfmg8f\"\n",
    "    \n",
    "    def getSchema(self):\n",
    "        return \"\"\"InvoiceNumber string, CreatedTime bigint, StoreID string, PosID string, CashierID string,\n",
    "                CustomerType string, CustomerCardNo string, TotalAmount double, NumberOfItems bigint, \n",
    "                PaymentMethod string, TaxableAmount double, CGST double, SGST double, CESS double, \n",
    "                DeliveryType string,\n",
    "                DeliveryAddress struct<AddressLine string, City string, ContactNumber string, PinCode string, \n",
    "                State string>,\n",
    "                InvoiceLineItems array<struct<ItemCode string, ItemDescription string, \n",
    "                    ItemPrice double, ItemQty bigint, TotalValue double>>\n",
    "            \"\"\"\n",
    "\n",
    "    def ingestFromKafka(self, startingTime = 1):\n",
    "        return ( spark.readStream\n",
    "            .format(\"kafka\")\n",
    "            .option(\"kafka.bootstrap.servers\", self.BOOTSTRAP_SERVER)\n",
    "            .option(\"kafka.security.protocol\", \"SASL_SSL\")\n",
    "            .option(\"kafka.sasl.mechanism\", \"PLAIN\")\n",
    "            .option(\"kafka.sasl.jaas.config\", f\"{self.JAAS_MODULE} required username='{self.CLUSTER_API_KEY}' password='{self.CLUSTER_API_SECRET}';\")\n",
    "            .option(\"subscribe\", \"Test\")\n",
    "            .option(\"maxOffsetsPerTrigger\", 30)\n",
    "            .option(\"startingTimestamp\", startingTime)\n",
    "            .load()\n",
    "        )\n",
    "\n",
    "    def getInvoices(self, kafka_df):\n",
    "        from pyspark.sql.functions import from_json, cast\n",
    "        return(\n",
    "            kafka_df.select(kafka_df.key.cast('string').alias('key'),\n",
    "                           from_json(kafka_df.value.cast('string'),self.getSchema()).alias(\"value\"),\n",
    "                           \"topic\",\"timestamp\")\n",
    "        )\n",
    "    \n",
    "    def upsert(self, invoices_df, batch_id):\n",
    "        invoices_df.createOrReplaceTempView(\"invoices_df_temp_view\")\n",
    "        merge_stmt = \"\"\"MERGE INTO invoices_bz s\n",
    "                USING invoices_df_temp_view t\n",
    "                ON s.value == t.value AND s.timestamp == t.timestamp\n",
    "                WHEN MATCHED THEN\n",
    "                UPDATE SET *\n",
    "                WHEN NOT MATCHED THEN\n",
    "                INSERT *\n",
    "            \"\"\"\n",
    "        invoices_df._jdf.sparkSession().sql(merge_statement)\n",
    "\n",
    "    def process(self, startingTime = 1):\n",
    "        print(f\"Starting Bronze Stream...\", end='')\n",
    "        invoicesDF = self.getInvoices(self.ingestFromKafka(startingTime))\n",
    "        sQuery = (invoicesDF.writeStream\n",
    "                  .queryName(\"bronze-ingestion\")\n",
    "                  .foreachBatch(self.upsert)\n",
    "                  .option(\"checkpointLocation\", f\"{self.base_data_dir}/chekpoint/invoices_bz\")\n",
    "                  .outputMode(\"append\")\n",
    "                  .start()\n",
    "        )\n",
    "        print(\"Done\")\n",
    "        return sQuery\n"
   ]
  }
 ],
 "metadata": {
  "application/vnd.databricks.v1+notebook": {
   "computePreferences": null,
   "dashboards": [],
   "environmentMetadata": {
    "base_environment": "",
    "environment_version": "2"
   },
   "language": "python",
   "notebookMetadata": {
    "pythonIndentUnit": 4
   },
   "notebookName": "12-idempotent-kafka-to-bronze",
   "widgets": {}
  },
  "language_info": {
   "name": "python"
  }
 },
 "nbformat": 4,
 "nbformat_minor": 0
}
